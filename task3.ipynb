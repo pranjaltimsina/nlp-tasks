{
 "cells": [
  {
   "cell_type": "code",
   "execution_count": 1,
   "metadata": {},
   "outputs": [],
   "source": [
    "from urllib import request\n",
    "\n",
    "import nltk\n",
    "from nltk.stem import LancasterStemmer, PorterStemmer, RegexpStemmer, SnowballStemmer\n",
    "from nltk.tokenize import word_tokenize\n"
   ]
  },
  {
   "cell_type": "code",
   "execution_count": 2,
   "metadata": {},
   "outputs": [],
   "source": [
    "url = \"https://www.gutenberg.org/files/1661/1661-0.txt\"\n",
    "txt = request.urlopen(url).read().decode(\"utf8\")\n"
   ]
  },
  {
   "cell_type": "code",
   "execution_count": 3,
   "metadata": {},
   "outputs": [
    {
     "name": "stdout",
     "output_type": "stream",
     "text": [
      "['\\ufeffThe', 'Project', 'Gutenberg', 'eBook', 'of', 'The', 'Adventures', 'of', 'Sherlock', 'Holmes', ',', 'by', 'Arthur', 'Conan', 'Doyle', 'This', 'eBook', 'is', 'for', 'the']\n"
     ]
    }
   ],
   "source": [
    "tokens = word_tokenize(txt)\n",
    "print(tokens[:20])\n"
   ]
  },
  {
   "cell_type": "code",
   "execution_count": 4,
   "metadata": {},
   "outputs": [
    {
     "name": "stdout",
     "output_type": "stream",
     "text": [
      "cacti\n",
      "happi\n"
     ]
    }
   ],
   "source": [
    "porter1 = PorterStemmer()\n",
    "print(porter1.stem(\"cacti\"))\n",
    "print(porter1.stem(\"happiness\"))\n"
   ]
  },
  {
   "cell_type": "code",
   "execution_count": 5,
   "metadata": {},
   "outputs": [
    {
     "name": "stdout",
     "output_type": "stream",
     "text": [
      "cact\n",
      "happy\n"
     ]
    }
   ],
   "source": [
    "porter2 = LancasterStemmer()\n",
    "print(porter2.stem(\"cacti\"))\n",
    "print(porter2.stem(\"happiness\"))\n"
   ]
  },
  {
   "cell_type": "code",
   "execution_count": 10,
   "metadata": {},
   "outputs": [
    {
     "name": "stdout",
     "output_type": "stream",
     "text": [
      "walk\n",
      "runn\n",
      "cunn\n"
     ]
    }
   ],
   "source": [
    "porter3 = RegexpStemmer('ing')\n",
    "print(porter3.stem('walking'))\n",
    "print(porter3.stem('running'))\n",
    "print(porter3.stem('cunning'))"
   ]
  },
  {
   "cell_type": "code",
   "execution_count": 7,
   "metadata": {},
   "outputs": [
    {
     "name": "stdout",
     "output_type": "stream",
     "text": [
      "detest\n",
      "avoir\n"
     ]
    }
   ],
   "source": [
    "porter4 = SnowballStemmer(\"french\")\n",
    "print(porter4.stem(\"detester\"))\n",
    "print(porter4.stem(\"avoir\"))\n"
   ]
  },
  {
   "cell_type": "code",
   "execution_count": 11,
   "metadata": {},
   "outputs": [
    {
     "name": "stdout",
     "output_type": "stream",
     "text": [
      "Porter Stemmer: \n",
      "The->the\n",
      "book->book\n",
      "meditations->medit\n",
      "by->by\n",
      "marcus->marcu\n",
      "aurelius->aureliu\n",
      "is->is\n",
      "very->veri\n",
      "interesting,->interesting,\n",
      "and->and\n",
      "thought->thought\n",
      "provoking.->provoking.\n"
     ]
    }
   ],
   "source": [
    "some_txt = (\"The book meditations by marcus aurelius is very interesting, and thought provoking.\")\n",
    "some_txt_stemmers = [porter1.stem(word) for word in some_txt.split()]\n",
    "print(\"Porter Stemmer: \")\n",
    "for word, stem in zip(some_txt.split(), some_txt_stemmers):\n",
    "    print(word, stem, sep=\"->\")\n"
   ]
  },
  {
   "cell_type": "code",
   "execution_count": null,
   "metadata": {},
   "outputs": [],
   "source": []
  }
 ],
 "metadata": {
  "kernelspec": {
   "display_name": "base",
   "language": "python",
   "name": "python3"
  },
  "language_info": {
   "codemirror_mode": {
    "name": "ipython",
    "version": 3
   },
   "file_extension": ".py",
   "mimetype": "text/x-python",
   "name": "python",
   "nbconvert_exporter": "python",
   "pygments_lexer": "ipython3",
   "version": "3.9.7"
  },
  "orig_nbformat": 4
 },
 "nbformat": 4,
 "nbformat_minor": 2
}
