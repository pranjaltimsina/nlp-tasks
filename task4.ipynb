{
 "cells": [
  {
   "cell_type": "code",
   "execution_count": 1,
   "metadata": {},
   "outputs": [],
   "source": [
    "from sklearn.feature_extraction.text import CountVectorizer, TfidfVectorizer\n",
    "from sklearn.metrics.pairwise import cosine_similarity\n"
   ]
  },
  {
   "cell_type": "code",
   "execution_count": 2,
   "metadata": {},
   "outputs": [
    {
     "data": {
      "text/plain": [
       "CountVectorizer(binary=True)"
      ]
     },
     "execution_count": 2,
     "metadata": {},
     "output_type": "execute_result"
    }
   ],
   "source": [
    "vect = CountVectorizer(binary=True)\n",
    "corpus = [\n",
    "    \"I have a German Shepherd\",\n",
    "    \"German Shepherd is from Germany\",\n",
    "    \"Germans love gossiping\",\n",
    "]\n",
    "vect.fit(corpus)\n"
   ]
  },
  {
   "cell_type": "code",
   "execution_count": 3,
   "metadata": {},
   "outputs": [
    {
     "name": "stdout",
     "output_type": "stream",
     "text": [
      "from:0\n",
      "german:1\n",
      "germans:2\n",
      "germany:3\n",
      "gossiping:4\n",
      "have:5\n",
      "is:6\n",
      "love:7\n",
      "shepherd:8\n"
     ]
    }
   ],
   "source": [
    "vocab = vect.vocabulary_\n",
    "for key in sorted(vocab.keys()):\n",
    "    print(\"{}:{}\".format(key, vocab[key]))\n"
   ]
  },
  {
   "cell_type": "code",
   "execution_count": 4,
   "metadata": {},
   "outputs": [
    {
     "name": "stdout",
     "output_type": "stream",
     "text": [
      "[[0 1 0 1 0 0 0 0 1]]\n"
     ]
    }
   ],
   "source": [
    "print(vect.transform([\"Germany has German Shepherd\"]).toarray())\n"
   ]
  },
  {
   "cell_type": "code",
   "execution_count": 5,
   "metadata": {},
   "outputs": [
    {
     "name": "stdout",
     "output_type": "stream",
     "text": [
      "[[0.57735027]]\n"
     ]
    }
   ],
   "source": [
    "similarity = cosine_similarity(\n",
    "    vect.transform([\"Germany has German Shepherd\"]).toarray(),\n",
    "    vect.transform([\"Germany has Berlin as capital\"]).toarray(),\n",
    ")\n",
    "print(similarity)\n"
   ]
  },
  {
   "cell_type": "code",
   "execution_count": 6,
   "metadata": {},
   "outputs": [],
   "source": [
    "vectorizer = TfidfVectorizer(binary=True)\n"
   ]
  },
  {
   "cell_type": "code",
   "execution_count": 20,
   "metadata": {},
   "outputs": [],
   "source": [
    "e1 = (\"Far out, there pealed a whisper of frightful laughter. And again,\"\n",
    "    \"closer this time. No human being ever laughed like that—there was no mirth in it,\"\n",
    "    \" only hatred and horror and soul-destroying terror. Kane halted. He was not afraid, \"\n",
    "    \"but for the second he was almost unnerved. Then, stabbing through that awesome laughter, \"\n",
    "    \"came the sound of a scream that was undoubtedly human. Kane started forward, increasing his gait.\"\n",
    "    \" He cursed the illusive lights and flickering shadows which veiled the moor in the rising moon and \"\n",
    "    \"made accurate sight impossible. The laughter continued, growing louder, as did the screams.\"\n",
    "    \"Then sounded faintly the drum of frantic human feet. Kane broke into a run.\"\n",
    ")\n",
    "e2 = (\n",
    "    \"Then the noise of a terrible and short struggle came clearly through the abysmal silence of the\"\n",
    "    \" fen and the footfalls began again, but stumbling and uneven. The screaming continued, \"\n",
    "    \"but with a gasping gurgle. The sweat stood cold on Kane's forehead and body. This was \"\n",
    "    \"heaping horror on horror in an intolerable manner.\"\n",
    ")\n",
    "e3 = (\n",
    "    \"The moon was up now and the light was better. Kane bent above the body, which lay stark \"\n",
    "    \"in its unnamable mutilation, and he shuddered—a rare thing for him, who had seen the deeds of \"\n",
    "    \"the Spanish Inquisition and the witch-finders.\"\n",
    ")\n",
    "e4 = (\n",
    "    \"Of one thing Kane was sure: there would be no hunting of him across the dreary moors, \"\n",
    "    \"no screaming and fleeing to be dragged down again and again. If he must die he would die \"\n",
    "    \"in his tracks, his wounds in front.\"\n",
    ")\n",
    "e5 = (\n",
    "    \"\\\"Aye, aye!\\\" muttered old Ezra hurriedly; \\\"a bad thing, a bad thing! Yet why do you tell this thing to me?\\\"\"\n",
    ")\n",
    "e6 = (\n",
    "    \"On the instant, at Kane's sharp order, two brawny villagers sprang forward and seized the miser. \"\n",
    "    \"They twisted the dagger from his withered hand, and pinioned his arms, shuddering as their fingers \"\n",
    "    \"encountered his clammy flesh.\"\n",
    ")\n",
    "e7 = (\n",
    "    \"The sun was sliding down the horizon and old Ezra stared at it with bulging eyes—stared as \"\n",
    "    \"if he could not gaze enough. Far out on the moors reared up the great oak tree, like a gibbet, \"\n",
    "    \"now only a decaying shell. There Solomon Kane halted.\"\n",
    ")\n",
    "e8 = (\n",
    "    \"Kane spoke a few words to an agile villager. The youth clambered up the rotting bole of the tree and\"\n",
    "    \"from a crevice, high up, dragged something that fell with a clatter at the feet of the miser. Ezra went \"\n",
    "    \"limp with a terrible shriek.\"\n",
    ")\n",
    "e9 = (\n",
    "    \"They walked away across the fen, and Kane flung a last look at the grotesque form bound to the tree, \"\n",
    "    \"seeming in the uncertain light like a great fungus growing to the bole. And suddenly the miser screamed hideously:\"\n",
    ")\n",
    "e10 = (\n",
    "    \"Nothing could be seen. The moor was an ocean of shadows and the tall grass about them bent in long waves \"\n",
    "    \"before the faint wind, breaking the deathly stillness with breathless murmurings.\"\n",
    ")\n"
   ]
  },
  {
   "cell_type": "code",
   "execution_count": 21,
   "metadata": {},
   "outputs": [
    {
     "data": {
      "text/plain": [
       "TfidfVectorizer(binary=True)"
      ]
     },
     "execution_count": 21,
     "metadata": {},
     "output_type": "execute_result"
    }
   ],
   "source": [
    "edit_corpus = [e1, e2, e3, e4, e5, e6, e7, e8, e9, e10]\n",
    "vectorizer.fit(edit_corpus)\n"
   ]
  },
  {
   "cell_type": "code",
   "execution_count": 22,
   "metadata": {},
   "outputs": [
    {
     "name": "stdout",
     "output_type": "stream",
     "text": [
      "about:0\n",
      "above:1\n",
      "abysmal:2\n",
      "accurate:3\n",
      "across:4\n",
      "afraid:5\n",
      "again:6\n",
      "agile:7\n",
      "almost:8\n",
      "an:9\n",
      "and:10\n",
      "andfrom:11\n",
      "arms:12\n",
      "as:13\n",
      "at:14\n",
      "away:15\n",
      "awesome:16\n",
      "aye:17\n",
      "bad:18\n",
      "be:19\n",
      "before:20\n",
      "began:21\n",
      "being:22\n",
      "bent:23\n",
      "better:24\n",
      "body:25\n",
      "bole:26\n",
      "bound:27\n",
      "brawny:28\n",
      "breaking:29\n",
      "breathless:30\n",
      "broke:31\n",
      "bulging:32\n",
      "but:33\n",
      "came:34\n",
      "clambered:35\n",
      "clammy:36\n",
      "clatter:37\n",
      "clearly:38\n",
      "closer:39\n",
      "cold:40\n",
      "continued:41\n",
      "could:42\n",
      "crevice:43\n",
      "cursed:44\n",
      "dagger:45\n",
      "deathly:46\n",
      "decaying:47\n",
      "deeds:48\n",
      "destroying:49\n",
      "did:50\n",
      "die:51\n",
      "do:52\n",
      "down:53\n",
      "dragged:54\n",
      "dreary:55\n",
      "drum:56\n",
      "encountered:57\n",
      "enough:58\n",
      "ever:59\n",
      "eyes:60\n",
      "ezra:61\n",
      "faint:62\n",
      "faintly:63\n",
      "far:64\n",
      "feet:65\n",
      "fell:66\n",
      "fen:67\n",
      "few:68\n",
      "finders:69\n",
      "fingers:70\n",
      "fleeing:71\n",
      "flesh:72\n",
      "flickering:73\n",
      "flung:74\n",
      "footfalls:75\n",
      "for:76\n",
      "forehead:77\n",
      "form:78\n",
      "forward:79\n",
      "frantic:80\n",
      "frightful:81\n",
      "from:82\n",
      "front:83\n",
      "fungus:84\n",
      "gait:85\n",
      "gasping:86\n",
      "gaze:87\n",
      "gibbet:88\n",
      "grass:89\n",
      "great:90\n",
      "grotesque:91\n",
      "growing:92\n",
      "gurgle:93\n",
      "had:94\n",
      "halted:95\n",
      "hand:96\n",
      "hatred:97\n",
      "he:98\n",
      "heaping:99\n",
      "hideously:100\n",
      "high:101\n",
      "him:102\n",
      "his:103\n",
      "horizon:104\n",
      "horror:105\n",
      "human:106\n",
      "hunting:107\n",
      "hurriedly:108\n",
      "if:109\n",
      "illusive:110\n",
      "impossible:111\n",
      "in:112\n",
      "increasing:113\n",
      "inquisition:114\n",
      "instant:115\n",
      "into:116\n",
      "intolerable:117\n",
      "it:118\n",
      "its:119\n",
      "kane:120\n",
      "last:121\n",
      "laughed:122\n",
      "laughter:123\n",
      "lay:124\n",
      "light:125\n",
      "lights:126\n",
      "like:127\n",
      "limp:128\n",
      "long:129\n",
      "look:130\n",
      "louder:131\n",
      "made:132\n",
      "manner:133\n",
      "me:134\n",
      "mirth:135\n",
      "miser:136\n",
      "moon:137\n",
      "moor:138\n",
      "moors:139\n",
      "murmurings:140\n",
      "must:141\n",
      "mutilation:142\n",
      "muttered:143\n",
      "no:144\n",
      "noise:145\n",
      "not:146\n",
      "nothing:147\n",
      "now:148\n",
      "oak:149\n",
      "ocean:150\n",
      "of:151\n",
      "old:152\n",
      "on:153\n",
      "one:154\n",
      "only:155\n",
      "order:156\n",
      "out:157\n",
      "pealed:158\n",
      "pinioned:159\n",
      "rare:160\n",
      "reared:161\n",
      "rising:162\n",
      "rotting:163\n",
      "run:164\n",
      "scream:165\n",
      "screamed:166\n",
      "screaming:167\n",
      "screams:168\n",
      "second:169\n",
      "seeming:170\n",
      "seen:171\n",
      "seized:172\n",
      "shadows:173\n",
      "sharp:174\n",
      "shell:175\n",
      "short:176\n",
      "shriek:177\n",
      "shuddered:178\n",
      "shuddering:179\n",
      "sight:180\n",
      "silence:181\n",
      "sliding:182\n",
      "solomon:183\n",
      "something:184\n",
      "soul:185\n",
      "sound:186\n",
      "sounded:187\n",
      "spanish:188\n",
      "spoke:189\n",
      "sprang:190\n",
      "stabbing:191\n",
      "stared:192\n",
      "stark:193\n",
      "started:194\n",
      "stillness:195\n",
      "stood:196\n",
      "struggle:197\n",
      "stumbling:198\n",
      "suddenly:199\n",
      "sun:200\n",
      "sure:201\n",
      "sweat:202\n",
      "tall:203\n",
      "tell:204\n",
      "terrible:205\n",
      "terror:206\n",
      "that:207\n",
      "the:208\n",
      "their:209\n",
      "them:210\n",
      "then:211\n",
      "there:212\n",
      "they:213\n",
      "thing:214\n",
      "this:215\n",
      "through:216\n",
      "time:217\n",
      "to:218\n",
      "tracks:219\n",
      "tree:220\n",
      "twisted:221\n",
      "two:222\n",
      "uncertain:223\n",
      "undoubtedly:224\n",
      "uneven:225\n",
      "unnamable:226\n",
      "unnerved:227\n",
      "up:228\n",
      "veiled:229\n",
      "villager:230\n",
      "villagers:231\n",
      "walked:232\n",
      "was:233\n",
      "waves:234\n",
      "went:235\n",
      "which:236\n",
      "whisper:237\n",
      "who:238\n",
      "why:239\n",
      "wind:240\n",
      "witch:241\n",
      "with:242\n",
      "withered:243\n",
      "words:244\n",
      "would:245\n",
      "wounds:246\n",
      "yet:247\n",
      "you:248\n",
      "youth:249\n"
     ]
    }
   ],
   "source": [
    "vocabulary = vectorizer.vocabulary_\n",
    "for key in sorted(vocabulary.keys()):\n",
    "    print(\"{}:{}\".format(key, vocabulary[key]))\n"
   ]
  },
  {
   "cell_type": "code",
   "execution_count": 23,
   "metadata": {},
   "outputs": [],
   "source": [
    "new1 = (\n",
    "  \"Semantic Segmentation is a computer vision task in which the goal is to categorize each pixel in an image\"\n",
    "  \"into a class or object. The goal is to produce a dense pixel-wise segmentation map of an image, where each pixel\"\n",
    ")\n",
    "new2 = (\n",
    " \"is assigned to a specific class or object. Some example benchmarks for this task are Cityscapes,\" \n",
    " \"PASCAL VOC and ADE20K. Models are usually evaluated with the Mean Intersection-Over-Union (Mean IoU) and Pixel Accuracy metrics.\"\n",
    ")\n"
   ]
  },
  {
   "cell_type": "code",
   "execution_count": 24,
   "metadata": {},
   "outputs": [
    {
     "name": "stdout",
     "output_type": "stream",
     "text": [
      "[[0.11320528]]\n",
      "[[0.15002674]]\n",
      "[[0.18507694]]\n",
      "[[0.16023786]]\n",
      "[[0.07796325]]\n",
      "[[0.02067132]]\n",
      "[[0.01930123]]\n",
      "[[0.18295401]]\n",
      "[[0.11987149]]\n",
      "[[0.17389661]]\n"
     ]
    }
   ],
   "source": [
    "for i in range(10):\n",
    "    e = edit_corpus[i]\n",
    "    print(\n",
    "        cosine_similarity(\n",
    "            vectorizer.transform([e]).toarray(), vectorizer.transform([new1]).toarray()\n",
    "        )\n",
    "    )\n"
   ]
  },
  {
   "cell_type": "code",
   "execution_count": 25,
   "metadata": {},
   "outputs": [
    {
     "name": "stdout",
     "output_type": "stream",
     "text": [
      "[[0.12518641]]\n",
      "[[0.15492589]]\n",
      "[[0.13550272]]\n",
      "[[0.10736392]]\n",
      "[[0.17454684]]\n",
      "[[0.04498294]]\n",
      "[[0.09286443]]\n",
      "[[0.13017592]]\n",
      "[[0.10634185]]\n",
      "[[0.1060747]]\n"
     ]
    }
   ],
   "source": [
    "for i in range(10):\n",
    "    e = edit_corpus[i]\n",
    "    print(\n",
    "        cosine_similarity(\n",
    "            vectorizer.transform([e]).toarray(), vectorizer.transform([new2]).toarray()\n",
    "        )\n",
    "    )\n"
   ]
  },
  {
   "cell_type": "code",
   "execution_count": null,
   "metadata": {},
   "outputs": [],
   "source": []
  }
 ],
 "metadata": {
  "kernelspec": {
   "display_name": "base",
   "language": "python",
   "name": "python3"
  },
  "language_info": {
   "codemirror_mode": {
    "name": "ipython",
    "version": 3
   },
   "file_extension": ".py",
   "mimetype": "text/x-python",
   "name": "python",
   "nbconvert_exporter": "python",
   "pygments_lexer": "ipython3",
   "version": "3.9.7"
  },
  "orig_nbformat": 4
 },
 "nbformat": 4,
 "nbformat_minor": 2
}
